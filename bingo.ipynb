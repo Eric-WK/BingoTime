{
 "cells": [
  {
   "cell_type": "markdown",
   "metadata": {},
   "source": [
    "## Generating Bingo Cards for the PeopleTeam @ Locaria\n",
    "\n",
    "### Description: \n",
    "A Bingo card is a NxN grid, commonly with N=5, in which it contains NxN - 1 available grids, given that the center grid is always free. The goal of the game is to fill in all the grids except the center one, in a random order. The game is played by calling out numbers, and the player marks the number on their card if it is present. The first player to fill in all the grids except the center one wins the game.\n",
    "\n",
    "### Variations: \n",
    "There are going to be two variations: \n",
    "1. Classical Bingo - with numbers from 1 to 101. \n",
    "2. Textual Bingo - with words from a list of words.\n",
    "\n",
    "### Rules:\n",
    "1. The game is played by calling out numbers, and the player marks the number on their card if it is present.\n",
    "2. The first player to fill in all the grids except the center one wins the game.\n",
    "3. The game is played by calling out words, and the player marks the word on their card if it is present.\n",
    "4. The first player to fill in all the grids except the center one wins the game.\n"
   ]
  },
  {
   "cell_type": "code",
   "execution_count": null,
   "metadata": {},
   "outputs": [],
   "source": [
    "import matplotlib.pyplot as plt\n",
    "import numpy as np\n",
    "import pandas as pd\n",
    "import os\n",
    "import json"
   ]
  },
  {
   "cell_type": "code",
   "execution_count": null,
   "metadata": {},
   "outputs": [],
   "source": [
    "TOTAL_TO_GENERATE = 106 "
   ]
  },
  {
   "cell_type": "code",
   "execution_count": null,
   "metadata": {},
   "outputs": [],
   "source": [
    "## read the bingo promps \n",
    "bingo_prompts = pd.read_csv(\"bingo_prompts.csv\", header=None).rename(columns = {0:\"prompts\"})\n",
    "## capitalize the first letter of each prompt\n",
    "bingo_prompts[\"prompts\"] = bingo_prompts[\"prompts\"].str.capitalize()\n",
    "## create a list of prompts\n",
    "prompts_list = bingo_prompts[\"prompts\"].tolist()\n",
    "## print the number of prompts \n",
    "print(f\"There are {len(prompts_list)} prompts\")\n",
    "## show the min, max, and mean length of the prompts\n",
    "print(f\"The min length of the prompts is {bingo_prompts['prompts'].str.len().min()}\")\n",
    "print(f\"The max length of the prompts is {bingo_prompts['prompts'].str.len().max()}\")\n",
    "print(f\"The mean length of the prompts is {bingo_prompts['prompts'].str.len().mean()}\")"
   ]
  },
  {
   "cell_type": "code",
   "execution_count": null,
   "metadata": {},
   "outputs": [],
   "source": [
    "## split them by whitespace\n",
    "bingo_prompts[\"prompts_2\"] = bingo_prompts[\"prompts\"].str.split()\n",
    "## get the length of each list of prompts \n",
    "bingo_prompts[\"prompts_2_len\"] = bingo_prompts[\"prompts_2\"].str.len()\n",
    "## show the min, max, and mean length of the prompts\n",
    "print(f\"The min length of the prompts is {bingo_prompts['prompts_2_len'].min()}\")\n",
    "print(f\"The max length of the prompts is {bingo_prompts['prompts_2_len'].max()}\")\n",
    "print(f\"The mean length of the prompts is {bingo_prompts['prompts_2_len'].mean()}\")"
   ]
  },
  {
   "cell_type": "code",
   "execution_count": null,
   "metadata": {},
   "outputs": [],
   "source": [
    "PARAMETERS = {\n",
    "    \"W\": 5, \n",
    "    \"H\":5,\n",
    "    \"MIN_VALUE\":1,\n",
    "    \"MAX_VALUE\":101,\n",
    "    \"MULTIPLIER\":3,\n",
    "    \"FREE_SPACE\":True,\n",
    "    \"FREE_SPACE_VALUE\":\"FREE\",\n",
    "    \"ADD_RANDOM_COLORS\":False,\n",
    "}\n",
    "\n",
    "COLORS = {\n",
    "    \"Purple\":\"#871882\",\n",
    "    \"Aqua\":\"#17DDBF\",\n",
    "    \"Tangerine\":\"#FF8850\",\n",
    "    \"Lime\":\"#CCE161\"\n",
    "}\n",
    "\n",
    "SETUP_PARAMETERS = {\n",
    "    \"TOTAL_NUMBERS\" : (PARAMETERS['W'] * PARAMETERS['H']) - 1,\n",
    "    \"MIN_VALUE\" : PARAMETERS['MIN_VALUE'],\n",
    "    \"MAX_VALUE\" : PARAMETERS['MAX_VALUE'],\n",
    "    \"FREE_SLOT_COORD\" : (PARAMETERS['W']//2, PARAMETERS['H']//2),\n",
    "    \"FIGURE_SIZE\" : (PARAMETERS['W']*PARAMETERS['MULTIPLIER'], PARAMETERS['H']*PARAMETERS['MULTIPLIER'])\n",
    "}\n",
    "\n",
    "MAX_SIZE = 3"
   ]
  },
  {
   "cell_type": "code",
   "execution_count": null,
   "metadata": {},
   "outputs": [],
   "source": [
    "def create_bingo_card():\n",
    "    ## CREATING THE FIGURE \n",
    "    fig = plt.figure(figsize=SETUP_PARAMETERS[\"FIGURE_SIZE\"])\n",
    "    ax = fig.add_subplot(111)\n",
    "\n",
    "    ## MAKING THE GRID\n",
    "    for x in range(PARAMETERS['W']):\n",
    "        for y in range(PARAMETERS['H']):\n",
    "            ax.plot([x, x+1], [y, y], color='black')\n",
    "            ax.plot([x, x], [y, y+1], color='black')\n",
    "            ax.plot([x+1, x+1], [y, y+1], color='black')\n",
    "            ax.plot([x, x+1], [y+1, y+1], color='black')\n",
    "    ax.axis('off')\n",
    "    return ax\n",
    "\n",
    "\n",
    "def get_random_color():\n",
    "    return COLORS[np.random.choice(list(COLORS.keys()))]\n",
    "\n",
    "def color_free_slot(some_ax,color):\n",
    "    some_ax.add_patch(plt.Rectangle((SETUP_PARAMETERS[\"FREE_SLOT_COORD\"][0], SETUP_PARAMETERS[\"FREE_SLOT_COORD\"][1]), 1, 1, color=color))\n",
    "\n",
    "def text_free_slot(some_ax, text):\n",
    "    some_ax.text(SETUP_PARAMETERS[\"FREE_SLOT_COORD\"][0]+0.5, SETUP_PARAMETERS[\"FREE_SLOT_COORD\"][1]+0.5, text, horizontalalignment='center', verticalalignment='center', fontsize=20)\n",
    "    return some_ax\n",
    "\n",
    "\n",
    "def get_random_numbers():\n",
    "    numbers = np.random.choice(np.arange(PARAMETERS['MIN_VALUE'],PARAMETERS['MAX_VALUE']), size=SETUP_PARAMETERS['TOTAL_NUMBERS'], replace=False)\n",
    "    np.random.shuffle(numbers)\n",
    "    return numbers\n",
    "\n",
    "def fill_grid(some_ax,numbers_list):\n",
    "    ## FILLING THE GRID\n",
    "    numbers = numbers_list\n",
    "    for x in range(PARAMETERS['W']):\n",
    "        for y in range(PARAMETERS['H']):\n",
    "            if (x, y) != SETUP_PARAMETERS[\"FREE_SLOT_COORD\"]:\n",
    "                ## choose a random number from the list numbers and remove it from the list\n",
    "                number = numbers[0]\n",
    "                ## make sure that the same color is not used twice in adjacent cells\n",
    "                ## if the text is longer than 4 words, but less than 6 words, split it into two lines and make the font smaller\n",
    "                if len(str(number).split()) > MAX_SIZE and len(str(number).split()) <= MAX_SIZE*2:\n",
    "                    ## join the text with a newline between the words \n",
    "                    txt = \" \".join(str(number).split()[:MAX_SIZE]) + \"\\n\" + \" \".join(str(number).split()[MAX_SIZE:])\n",
    "                ## if it is greater than 6 words, split it into three lines and make the font even smaller\n",
    "                elif len(str(number).split()) > MAX_SIZE*2:\n",
    "                    txt = \" \".join(str(number).split()[:MAX_SIZE]) + \"\\n\" + \" \".join(str(number).split()[MAX_SIZE:MAX_SIZE*2]) + \"\\n\" + \" \".join(str(number).split()[MAX_SIZE*2:])\n",
    "                else:\n",
    "                    txt = str(number)\n",
    "                some_ax.text(x+0.5, y+0.5, txt, horizontalalignment='center', verticalalignment='center', fontsize=14)\n",
    "                numbers = numbers[1:]\n",
    "    return some_ax"
   ]
  },
  {
   "cell_type": "code",
   "execution_count": null,
   "metadata": {},
   "outputs": [],
   "source": [
    "# print(\"Generating bingo cards...\")\n",
    "# print(\"Total to generate: {}\".format(TOTAL_TO_GENERATE))\n",
    "# for i in range(1,TOTAL_TO_GENERATE):\n",
    "#     ## create a directory called bingo_cards if it does not exist\n",
    "#     if not os.path.exists(\"bingo_cards\"):\n",
    "#         os.makedirs(\"bingo_cards\")\n",
    "#     ## each bingo_card is going to be saved in a separate folder called: bingo_cards/card_1, bingo_cards/card_2, etc.\n",
    "#     if not os.path.exists(f\"bingo_cards/card_{i}\"):\n",
    "#         os.makedirs(f\"bingo_cards/card_{i}\")\n",
    "    \n",
    "#     ## create the bingo card \n",
    "#     bingo_card = create_bingo_card()\n",
    "\n",
    "#     ## color the free slot\n",
    "#     free_slot_color = get_random_color()\n",
    "#     color_free_slot(bingo_card, free_slot_color)\n",
    "\n",
    "#     ## add text to the free slot\n",
    "#     text_ax =text_free_slot(bingo_card, PARAMETERS[\"FREE_SPACE_VALUE\"])\n",
    "\n",
    "#     ## fill the grid with random numbers\n",
    "#     numbers = get_random_numbers()\n",
    "#     filled_ax = fill_grid(bingo_card, numbers)\n",
    "\n",
    "#     ## Save the configuration of a single bingo card\n",
    "#     CONFIGURATION = {\n",
    "#         \"W\":PARAMETERS['W'],\n",
    "#         \"H\":PARAMETERS['H'],\n",
    "#         \"TOTAL_NUMBERS\":SETUP_PARAMETERS[\"TOTAL_NUMBERS\"],\n",
    "#         \"MIN_VALUE\": PARAMETERS[\"MIN_VALUE\"],\n",
    "#         \"MAX_VALUE\": PARAMETERS[\"MAX_VALUE\"],\n",
    "#         \"FREE_SLOT_COORD\": SETUP_PARAMETERS[\"FREE_SLOT_COORD\"],\n",
    "#         \"LOCARIA_COLORS\": COLORS,\n",
    "#         \"ADD_RANDOM_LOCARIA_COLOR\": PARAMETERS['ADD_RANDOM_COLORS'],\n",
    "#         \"MULTIPLIER\": PARAMETERS['MULTIPLIER'],\n",
    "#         \"FIGURE_SIZE\": SETUP_PARAMETERS[\"FIGURE_SIZE\"],\n",
    "#         \"FREE_SLOT_COLOR\":free_slot_color,\n",
    "#     }\n",
    "#     ## SHOW THE FIGURE\n",
    "#     # plt.savefig(f\"bingo_cards/card_{i}/bingo_card.png\")\n",
    "#     # plt.close()\n",
    "#     # with open(f\"bingo_cards/card_{i}/configuration.json\", \"w\") as f:\n",
    "#     #     json.dump(CONFIGURATION, f, indent=4)\n",
    "#     # print(f\"Card {i} generated!\")\n"
   ]
  },
  {
   "cell_type": "code",
   "execution_count": null,
   "metadata": {},
   "outputs": [],
   "source": [
    "## create the bingo card \n",
    "bingo_card = create_bingo_card()\n",
    "\n",
    "## color the free slot\n",
    "free_slot_color = get_random_color()\n",
    "color_free_slot(bingo_card, free_slot_color)\n",
    "\n",
    "## add text to the free slot\n",
    "text_ax =text_free_slot(bingo_card, PARAMETERS[\"FREE_SPACE_VALUE\"])\n",
    "\n",
    "## fill the grid with random numbers\n",
    "# numbers = get_random_numbers()\n",
    "\n",
    "filled_ax = fill_grid(bingo_card, prompts_list)\n",
    "\n",
    "plt.show()"
   ]
  },
  {
   "cell_type": "code",
   "execution_count": null,
   "metadata": {},
   "outputs": [],
   "source": [
    "## use hugging face GPT2 to generate sentences to be able to fill the variation #2 \n",
    "## https://huggingface.co/transformers/model_doc/gpt2.html\n",
    "from transformers import pipeline, set_seed\n",
    "generator = pipeline('text-generation', model='gpt2')"
   ]
  },
  {
   "cell_type": "code",
   "execution_count": null,
   "metadata": {},
   "outputs": [],
   "source": [
    "## set the seed \n",
    "set_seed(42)\n",
    "## generate a sentence\n",
    "sent = \"\"\"\n",
    "1. I am proactive \n",
    "2. I am a good listener\n",
    "3. I am a good communicator\n",
    "4. \n",
    "\"\"\"\n",
    "output = generator(sent, max_length=10, num_return_sequences=1)\n",
    "print(output[0]['generated_text'])"
   ]
  },
  {
   "cell_type": "code",
   "execution_count": null,
   "metadata": {},
   "outputs": [],
   "source": []
  },
  {
   "cell_type": "code",
   "execution_count": 50,
   "metadata": {},
   "outputs": [
    {
     "data": {
      "text/plain": [
       "['Knows the moves for macarena',\n",
       " 'Can speak a second language',\n",
       " 'More than one sibling',\n",
       " 'Has been to more than 2 continents',\n",
       " 'Likes spicy food']"
      ]
     },
     "execution_count": 50,
     "metadata": {},
     "output_type": "execute_result"
    }
   ],
   "source": [
    "nprompts_list[0]"
   ]
  },
  {
   "cell_type": "code",
   "execution_count": 56,
   "metadata": {},
   "outputs": [
    {
     "name": "stderr",
     "output_type": "stream",
     "text": [
      "Setting `pad_token_id` to `eos_token_id`:50256 for open-end generation.\n",
      "Setting `pad_token_id` to `eos_token_id`:50256 for open-end generation.\n",
      "Setting `pad_token_id` to `eos_token_id`:50256 for open-end generation.\n",
      "Setting `pad_token_id` to `eos_token_id`:50256 for open-end generation.\n",
      "Setting `pad_token_id` to `eos_token_id`:50256 for open-end generation.\n",
      "Setting `pad_token_id` to `eos_token_id`:50256 for open-end generation.\n",
      "Setting `pad_token_id` to `eos_token_id`:50256 for open-end generation.\n",
      "Setting `pad_token_id` to `eos_token_id`:50256 for open-end generation.\n",
      "Setting `pad_token_id` to `eos_token_id`:50256 for open-end generation.\n",
      "Setting `pad_token_id` to `eos_token_id`:50256 for open-end generation.\n",
      "Setting `pad_token_id` to `eos_token_id`:50256 for open-end generation.\n"
     ]
    }
   ],
   "source": [
    "## batch the prompts into groups of 5\n",
    "## https://stackoverflow.com/questions/312443/how-do-you-split-a-list-into-evenly-sized-chunks\n",
    "\n",
    "def batch_list(lst, n):\n",
    "    for i in range(0, len(lst), n):\n",
    "        yield lst[i:i + n]\n",
    "\n",
    "## batch the prompts into groups of 5\n",
    "nprompts_list = list(batch_list(prompts_list, 5))\n",
    "\n",
    "## generate the sentences\n",
    "sentences = []\n",
    "for prompts in nprompts_list:\n",
    "    ## create a string with the prompts\n",
    "    sent = \", \".join(x for x in prompts)\n",
    "    ## generate a sentence\n",
    "    output = generator(sent, max_length=45, num_return_sequences=1)\n",
    "    ## append the generated sentence to the list\n",
    "    sentences.append(output[0]['generated_text'])"
   ]
  },
  {
   "cell_type": "code",
   "execution_count": 57,
   "metadata": {},
   "outputs": [
    {
     "name": "stdout",
     "output_type": "stream",
     "text": [
      "Knows the moves for macarena, Can speak a second language, More than one sibling, Has been to more than 2 continents, Likes spicy food and has an amazing voice All time in the top 10 in the sport\n",
      "Has worked here for 2+ years, Has lived abroad, Has a roomate, Does not live in their home country, Loves sushi, and is very active at reddit.com/r/askedish.\n",
      "\n",
      "Loves to read, Has been to a rosalía concert, Listens to music everyday, Loves to try new types of food, Has a pet. She loves cats like us and we're just going to look\n",
      "Has been on tv/radio, Knows the lyrics of a justin bieber's song, Is reading a book, Has seen game of thrones, Has gone to the beach this summer, Knows the world\n",
      "Has ever lived by the coast, Has a tattoo, Has/had a piercing, Likes pizza, Is alergic to something, Wants to eat a cheese, Was a swimmer for the Olympics, Has a history of\n",
      "Has tried scuba-diving, Has tried snorkeling, Has tried hiking, Does sport, Has visited at least 3 museums including the National Museum of American History on Lake Michigan and Fort Worth. His most recent\n",
      "Has freckles, Has ever had a broken bone, Has been a good student, Has been to a rihanna concert, Knows the lyrics of a spice girls song... and yet, I can read this post\n",
      "Plays/played a musical instrument, Wears glasses, Loves to travel, Has ever been the usa, Has ever been to poland, Never wore shoes.\n",
      "\n",
      "My brother can see all these things and\n",
      "Has ever been to ukraine, Has ever been to egypt, Has ever been to spain, Has ever been to the uk, Has ever been to mexico, Has ever been to the japan\n",
      "Is left handed, Is right handed, Loves to sing, Loves to dance, Has/had long hair\n",
      "\n",
      "It is not known whether she took any medications, whether she was in a coma, or whether she\n",
      "Has ever had purple/pink hair , Has a stray cat/dog, Has rescued an animal from the streets, Has eaten arepas  with a spoon, Has ever had an affair, Has had some sex with\n"
     ]
    }
   ],
   "source": [
    "## print all the sentences\n",
    "for sentence in sentences:\n",
    "    print(sentence)"
   ]
  },
  {
   "cell_type": "code",
   "execution_count": null,
   "metadata": {},
   "outputs": [],
   "source": []
  }
 ],
 "metadata": {
  "kernelspec": {
   "display_name": "Python 3.10.6 ('PeopleTeam-TGTvqVPg')",
   "language": "python",
   "name": "python3"
  },
  "language_info": {
   "codemirror_mode": {
    "name": "ipython",
    "version": 3
   },
   "file_extension": ".py",
   "mimetype": "text/x-python",
   "name": "python",
   "nbconvert_exporter": "python",
   "pygments_lexer": "ipython3",
   "version": "3.10.6"
  },
  "orig_nbformat": 4,
  "vscode": {
   "interpreter": {
    "hash": "0fe723b16b3a16c9f549da9888f6cd815400088d9a829cd482b7fb487f8e383a"
   }
  }
 },
 "nbformat": 4,
 "nbformat_minor": 2
}
